{
 "cells": [
  {
   "cell_type": "markdown",
   "id": "902a92fc",
   "metadata": {},
   "source": [
    "# NLP Data Acquisition"
   ]
  },
  {
   "cell_type": "code",
   "execution_count": 1,
   "id": "b11cfbc2",
   "metadata": {},
   "outputs": [],
   "source": [
    "from requests import get\n",
    "from bs4 import BeautifulSoup\n",
    "import os"
   ]
  },
  {
   "cell_type": "code",
   "execution_count": 3,
   "id": "720de77d",
   "metadata": {},
   "outputs": [],
   "source": [
    "url = 'https://codeup.edu/featured/women-in-tech-panelist-spotlight/'\n",
    "headers = {'User-Agent': 'Codeup Data Science'}\n",
    "response = get(url, headers = headers)"
   ]
  },
  {
   "cell_type": "code",
   "execution_count": 4,
   "id": "4c58fcc2",
   "metadata": {},
   "outputs": [
    {
     "name": "stdout",
     "output_type": "stream",
     "text": [
      "<!DOCTYPE html>\n",
      "<html lang=\"en-US\">\n",
      "<head>\n",
      "\t<meta charset=\"UTF-8\" />\n",
      "<meta http-equiv=\"X-UA-Compatible\" content=\"IE=edge\">\n",
      "\t<link rel=\"pingback\" href=\"https://codeup.edu/xmlrpc.php\" />\n",
      "\n",
      "\t<script type=\"text/javascript\">\n",
      "\t\tdocument.documentElement.className = 'js';\n",
      "\t</script>\n",
      "\t\n",
      "\t<link rel=\"preconnect\" href=\"https://fonts.gstatic.com\" crossorigin /><script id=\"diviarea-loader\">window.DiviPopupData=wi\n"
     ]
    }
   ],
   "source": [
    "print(response.text[:400])"
   ]
  },
  {
   "cell_type": "code",
   "execution_count": 6,
   "id": "135e7513",
   "metadata": {},
   "outputs": [],
   "source": [
    "soup=BeautifulSoup(response.content, 'html.parser')"
   ]
  },
  {
   "cell_type": "code",
   "execution_count": 8,
   "id": "5999ac4c",
   "metadata": {},
   "outputs": [],
   "source": [
    "article = soup.find('div', id='main-content')"
   ]
  },
  {
   "cell_type": "code",
   "execution_count": 9,
   "id": "ae0c5d35",
   "metadata": {},
   "outputs": [
    {
     "data": {
      "text/plain": [
       "'\\n\\n\\n\\n\\n\\nWomen in tech: Panelist Spotlight – Magdalena Rahn\\nMar 28, 2023 | Events, Featured\\n\\n\\nWomen in tech: Panelist Spotlight – Magdalena Rahn\\nCodeup is hosting a Women in Tech Panel in honor of Women’s History Month on March 29th, 2023! To further celebrate, we’d like to spotlight each of our panelists leading up to the discussion to learn a bit about their respective experiences as women in the tech industry!\\n\\nMeet Magdalena!\\nMagdalena Rahn is a current Codeup student in a Data Science cohort in San Antonio, Texas. She has a professional background in cross-cultural communications, international business development, the wine industry and journalism. After serving in the US Navy, she decided to complement her professional skill set by attending the Data Science program at Codeup; she is set to graduate in March 2023. Magdalena is fluent in French, Bulgarian, Chinese-Mandarin, Spanish and Italian.\\nWe asked Magdalena how Codeup impacted her career, and she replied “Codeup has provided a solid foundation in analytical processes, programming and data science methods, and it’s been an encouragement to have such supportive instructors and wonderful classmates.”\\nDon’t forget to tune in on March 29th to sit in on an insightful conversation with Magdalena.\\n\\n\\n\\n\\n\\n\\n\\n\\nOur ProgramsCloud Administration\\nFull Stack Web Development\\nData Science\\n\\n\\n\\n\\n\\nLatest Blog Articles\\nSpotlight on APIDA Voices: Celebrating Heritage and Inspiring Change ft. Arbeena Thapa\\nWomen in tech: Panelist Spotlight – Magdalena Rahn\\nWomen in tech: Panelist Spotlight – Rachel Robbins-Mayhill\\nWomen in Tech: Panelist Spotlight – Sarah Mellor\\nWomen in Tech: Panelist Spotlight – Madeleine Capper\\n\\n\\n\\n\\n\\n\\n\\n\\n\\n\\n\\n\\n\\n\\n\\n\\n\\n \\n\\n\\n'"
      ]
     },
     "execution_count": 9,
     "metadata": {},
     "output_type": "execute_result"
    }
   ],
   "source": [
    "article.text"
   ]
  },
  {
   "cell_type": "code",
   "execution_count": 10,
   "id": "85266cc5",
   "metadata": {},
   "outputs": [],
   "source": [
    "with open('article.txt', 'w') as f:\n",
    "    f.write(article.text)"
   ]
  },
  {
   "cell_type": "markdown",
   "id": "a9871ce2",
   "metadata": {},
   "source": [
    "# Exercises"
   ]
  },
  {
   "cell_type": "markdown",
   "id": "882dcefc",
   "metadata": {},
   "source": [
    "## 1. Codeup Blog Articles\n",
    "\n",
    "Visit Codeup's Blog and record the urls for at least 5 distinct blog posts. For each post, you should scrape at least the post's title and content.\n",
    "\n",
    "Encapsulate your work in a function named get_blog_articles that will return a list of dictionaries, with each dictionary representing one article. The shape of each dictionary should look like this:\n",
    "\n",
    "{\n",
    "\n",
    "    'title': 'the title of the article',\n",
    "    \n",
    "    'content': 'the full text content of the article'\n",
    "}"
   ]
  },
  {
   "cell_type": "code",
   "execution_count": 11,
   "id": "73dde305",
   "metadata": {},
   "outputs": [],
   "source": [
    "url_one = 'https://codeup.edu/featured/apida-heritage-month/'\n",
    "url_two = 'https://codeup.edu/featured/women-in-tech-rachel-robbins-mayhill/'\n",
    "url_three = 'https://codeup.edu/codeup-news/women-in-tech-panelist-spotlight-sarah-mellor/'\n",
    "url_four =  'https://codeup.edu/events/women-in-tech-madeleine/'\n",
    "url_five = 'https://codeup.edu/codeup-news/panelist-spotlight-4/'"
   ]
  },
  {
   "cell_type": "code",
   "execution_count": 12,
   "id": "cbf7cc35",
   "metadata": {},
   "outputs": [],
   "source": [
    "headers = {'User-Agent': 'Codeup Data Science'}"
   ]
  },
  {
   "cell_type": "code",
   "execution_count": 14,
   "id": "0f159a16",
   "metadata": {},
   "outputs": [],
   "source": [
    "response_one = get(url_one, headers = headers)\n",
    "response_two = get(url_two, headers = headers)\n",
    "response_three = get(url_three, headers = headers)\n",
    "response_four = get(url_four, headers = headers)\n",
    "response_five = get(url_five, headers = headers)"
   ]
  },
  {
   "cell_type": "code",
   "execution_count": 28,
   "id": "b638b717",
   "metadata": {},
   "outputs": [],
   "source": [
    "soup_one = BeautifulSoup(response_one.content, 'html.parser')\n",
    "soup_two = BeautifulSoup(response_two.content, 'html.parser')\n",
    "soup_three = BeautifulSoup(response_three.content, 'html.parser')\n",
    "soup_four = BeautifulSoup(response_four.content, 'html.parser')\n",
    "soup_five = BeautifulSoup(response_five.content, 'html.parser')"
   ]
  },
  {
   "cell_type": "code",
   "execution_count": 40,
   "id": "85835403",
   "metadata": {},
   "outputs": [],
   "source": [
    "article_one = soup_one.find('div', class_='entry-content')\n",
    "article_two = soup_two.find('div', class_='entry-content')\n",
    "article_three = soup_three.find('div', class_='entry-content')\n",
    "article_four = soup_four.find('div', class_='entry-content')\n",
    "article_five = soup_five.find('div', class_='entry-content')"
   ]
  },
  {
   "cell_type": "code",
   "execution_count": 43,
   "id": "9699efa1",
   "metadata": {},
   "outputs": [],
   "source": [
    "blog_one = {'title': soup_one.title.string,\n",
    "            'content': article_one.text,}\n",
    "blog_two = {'title': soup_two.title.string,\n",
    "            'content': article_two.text,}\n",
    "blog_three = {'title': soup_three.title.string,\n",
    "            'content': article_three.text,}\n",
    "blog_four = {'title': soup_four.title.string,\n",
    "            'content': article_four.text,}\n",
    "blog_five = {'title': soup_five.title.string,\n",
    "            'content': article_five.text,}"
   ]
  },
  {
   "cell_type": "code",
   "execution_count": 44,
   "id": "e7473b80",
   "metadata": {},
   "outputs": [],
   "source": [
    "blog_dict_list = []"
   ]
  },
  {
   "cell_type": "code",
   "execution_count": 45,
   "id": "7c5b94c5",
   "metadata": {},
   "outputs": [],
   "source": [
    "blog_dict_list.append(blog_one)"
   ]
  },
  {
   "cell_type": "code",
   "execution_count": 47,
   "id": "b2d4fb51",
   "metadata": {},
   "outputs": [],
   "source": [
    "def get_blog_articles():\n",
    "    '''This function gets five individual urls and\n",
    "    returns a list of dictionaries containing the title and content of each.'''\n",
    "    \n",
    "    #create an empty list to append to\n",
    "    blog_dict_list = []\n",
    "    \n",
    "    #define the urls\n",
    "    url_one = 'https://codeup.edu/featured/apida-heritage-month/'\n",
    "    url_two = 'https://codeup.edu/featured/women-in-tech-rachel-robbins-mayhill/'\n",
    "    url_three = 'https://codeup.edu/codeup-news/women-in-tech-panelist-spotlight-sarah-mellor/'\n",
    "    url_four =  'https://codeup.edu/events/women-in-tech-madeleine/'\n",
    "    url_five = 'https://codeup.edu/codeup-news/panelist-spotlight-4/'\n",
    "    \n",
    "    #define the headers\n",
    "    headers = {'User-Agent': 'Codeup Data Science'}\n",
    "    \n",
    "    #define the responses\n",
    "    response_one = get(url_one, headers = headers)\n",
    "    response_two = get(url_two, headers = headers)\n",
    "    response_three = get(url_three, headers = headers)\n",
    "    response_four = get(url_four, headers = headers)\n",
    "    response_five = get(url_five, headers = headers)\n",
    "    \n",
    "    #define the soups\n",
    "    soup_one = BeautifulSoup(response_one.content, 'html.parser')\n",
    "    soup_two = BeautifulSoup(response_two.content, 'html.parser')\n",
    "    soup_three = BeautifulSoup(response_three.content, 'html.parser')\n",
    "    soup_four = BeautifulSoup(response_four.content, 'html.parser')\n",
    "    soup_five = BeautifulSoup(response_five.content, 'html.parser')\n",
    "    \n",
    "    #define the articles\n",
    "    article_one = soup_one.find('div', class_='entry-content')\n",
    "    article_two = soup_two.find('div', class_='entry-content')\n",
    "    article_three = soup_three.find('div', class_='entry-content')\n",
    "    article_four = soup_four.find('div', class_='entry-content')\n",
    "    article_five = soup_five.find('div', class_='entry-content')\n",
    "    \n",
    "    #make the dicts\n",
    "    blog_one = {'title': soup_one.title.string,\n",
    "            'content': article_one.text,}\n",
    "    blog_two = {'title': soup_two.title.string,\n",
    "            'content': article_two.text,}\n",
    "    blog_three = {'title': soup_three.title.string,\n",
    "            'content': article_three.text,}\n",
    "    blog_four = {'title': soup_four.title.string,\n",
    "            'content': article_four.text,}\n",
    "    blog_five = {'title': soup_five.title.string,\n",
    "            'content': article_five.text,}\n",
    "    \n",
    "    #append to list\n",
    "    blog_dict_list.append(blog_one)\n",
    "    blog_dict_list.append(blog_two)\n",
    "    blog_dict_list.append(blog_three)\n",
    "    blog_dict_list.append(blog_four)\n",
    "    blog_dict_list.append(blog_five)\n",
    "    \n",
    "    return blog_dict_list"
   ]
  },
  {
   "cell_type": "markdown",
   "id": "6fb6c81e",
   "metadata": {},
   "source": [
    "## 2. News Articles\n",
    "\n",
    "We will now be scraping text data from inshorts, a website that provides a brief overview of many different topics.\n",
    "\n",
    "Write a function that scrapes the news articles for the following topics:\n",
    "\n",
    "Business\n",
    "\n",
    "Sports\n",
    "\n",
    "Technology\n",
    "\n",
    "Entertainment\n",
    "\n",
    "\n",
    "The end product of this should be a function named get_news_articles that returns a list of dictionaries, where each dictionary has this shape:\n",
    "\n",
    "{\n",
    "\n",
    "    'title': 'The article title',\n",
    "    'content': 'The article content',\n",
    "    'category': 'business' # for example\n",
    "}"
   ]
  },
  {
   "cell_type": "code",
   "execution_count": null,
   "id": "b17d5364",
   "metadata": {},
   "outputs": [],
   "source": []
  }
 ],
 "metadata": {
  "kernelspec": {
   "display_name": "Python 3 (ipykernel)",
   "language": "python",
   "name": "python3"
  },
  "language_info": {
   "codemirror_mode": {
    "name": "ipython",
    "version": 3
   },
   "file_extension": ".py",
   "mimetype": "text/x-python",
   "name": "python",
   "nbconvert_exporter": "python",
   "pygments_lexer": "ipython3",
   "version": "3.10.9"
  }
 },
 "nbformat": 4,
 "nbformat_minor": 5
}
